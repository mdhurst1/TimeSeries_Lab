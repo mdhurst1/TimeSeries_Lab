{
 "cells": [
  {
   "cell_type": "markdown",
   "metadata": {},
   "source": [
    "# Time Series Analysis\n",
    "In this lab you will run a simple time series analysis for the concentration of CO<sub>2</sub> in Earth's atmosphere recorded at the [Mauna Loa Observatory](https://www.esrl.noaa.gov/gmd/obop/mlo/) on Hawaii (run by the National Oceanic and Atmospheric Administration in the USA). The analysis has been written for you in the Python computer programming language, but **you don't need any prior knowledge of computer programming**. The aims of this lab are:\n",
    "* Understand what a time series is\n",
    "* Familiarise yourself with important concepts in time series analysis\n",
    "* Examine the changing CO<sub>2</sub> concentrations in the Earth's atmosphere through time\n",
    "* Get an introduction to the use of progamming languages such as Python for performing data analysis\n",
    "\n",
    "### Python\n",
    "The programming language we are using in this lab is called Python.  No prior knowledge of programming is required for this lab. **Learning how to be a programmer is not the aim!** However, this sort of scientific computing is becoming more common place in research and consultancy, so it won't do you any harm to see it in action. Python is a multifunctional computer language, for example it can interface with ArcGIS and QGIS (the software used in the previous lab) to automate workflows.\n",
    "\n",
    "The code for this lab has all been written for you in this notebook, you just need to execute it. \n",
    "**To run a code block, click in a cell, hold down shift, and press enter.** \n",
    "An asterisk in square brackets `In [*]:` will appear while the code is being executed, and this will change to a number `In [1]:` when the code is finished. *The order in which you execute the code blocks matters, they must be run in sequence.* \n",
    "\n",
    "Inside blocks of python code there are comments indicated by lines that start with `#`. These lines are not computer code but rather comments providing information about what the code is doing to help you follow along. Before we get started we need to tell python which tools we want to use (these are called modules):"
   ]
  },
  {
   "cell_type": "code",
   "execution_count": null,
   "metadata": {},
   "outputs": [],
   "source": [
    "# import modules for numerical and statistical calculations and for plotting data\n",
    "import urllib\n",
    "import numpy as np\n",
    "import scipy.stats as stat\n",
    "import matplotlib.pyplot as plt\n",
    "\n",
    "# tell python to allow plotting to occur within the page\n",
    "%matplotlib inline"
   ]
  },
  {
   "cell_type": "markdown",
   "metadata": {},
   "source": [
    "### Access timeseries data\n",
    "The time series data of mean monthly CO<sub>2</sub> concentrations recorded at Mauna Loa can be access [here](https://www.esrl.noaa.gov/gmd/ccgg/trends/data.html). However, by providing a direct link to the data stored online, we can just open it directly in python:\n",
    "\n",
    "**N.B. The direct link to the Mauna Loa observatory seems to be blocked on student accounts and therefore the data file has been provided on Moodle. PLEASE DOWNLOAD THE DATA FROM MOODLE** "
   ]
  },
  {
   "cell_type": "code",
   "execution_count": null,
   "metadata": {},
   "outputs": [],
   "source": [
    "# download the Mauna Loa CO2 data, we are only going to use two columns, \n",
    "# the decimal date and the monthly average CO2 concentrations,\n",
    "# so we unpack the results into two variables, date and Co2 concentration\n",
    "\n",
    "# load the data from the file\n",
    "Filename = \"co2_mm_mlo.txt\"\n",
    "DecimalDate, CO2 = np.loadtxt(Filename, usecols=(2,3), unpack=True)\n",
    "\n",
    "# let's print the first five values of each to get an idea what the data looks like\n",
    "print(DecimalDate[0:5])\n",
    "print(CO2[0:5])"
   ]
  },
  {
   "cell_type": "markdown",
   "metadata": {},
   "source": [
    "### Plot time series of mean monthly CO<sub>2</sub>\n",
    "\n",
    "First thing we might like to do is just to plot the data and see what it looks like. This is likely a plot you have seen before in climate change lectures and in media articles about climate change. This plot is known as the \"Keeling Curve\" after geochemist Charles David Keeling, who designed and built the Mauna Loa CO<sub>2</sub> monitoring station in 1957 ([Harris, 2010](https://pubs.acs.org/doi/abs/10.1021/ac1001492)).\n",
    "\n",
    "Note that we need to consider the units we are working in. Time is in years and CO<sub>2</sub> concentration is in parts per million (ppm).\n",
    "\n",
    "So let's make the plot by creating a figure, plotting the data, adding a legend and labelling our axes:"
   ]
  },
  {
   "cell_type": "code",
   "execution_count": null,
   "metadata": {},
   "outputs": [],
   "source": [
    "# plot the time series\n",
    "FigWidth = 10.\n",
    "fig1 = plt.figure(1,figsize=(FigWidth,FigWidth*9./16.))\n",
    "ax1 = fig1.add_subplot(111)\n",
    "ax1.plot(DecimalDate,CO2,'k-',label=\"Monthly Mean CO$_2$ Data\")\n",
    "plt.xlabel(\"Time (year)\")\n",
    "plt.ylabel(\"CO$_2$ (ppm)\")\n",
    "# add the legend\n",
    "ax1.legend()\n",
    "plt.savefig(\"MaunaLoa_CO2_TimeSeries.png\",dpi=600)"
   ]
  },
  {
   "cell_type": "markdown",
   "metadata": {},
   "source": [
    "Note that the last line saves the figure as an image file on your computer so you could put it in a report or essay.\n",
    "\n",
    "## Decomposition\n",
    "\n",
    "This time series can be thought of as being made up of a number of components, each of which can be analysed in turn to get a full statistical description of how the variable is changing through time. There is an overall **trend** whereby CO<sub>2</sub> concentrations in the atmosphere are increasing through time. There is then some regularity to the fluctuations about this trend, some **seasonality** in the data. These components can each be described individually using mathematical descriptions, and the resulting mathematical model can be used for prediction. \n",
    "\n",
    "First let's look at the components in a bit more detail by zooming in on a part of the plot, changing the axis limits:"
   ]
  },
  {
   "cell_type": "code",
   "execution_count": null,
   "metadata": {},
   "outputs": [],
   "source": [
    "# change the x and y axis scale to show seasonality\n",
    "ax1.set_xlim(2000,2010)\n",
    "ax1.set_ylim(360,400)\n",
    "plt.savefig(\"MaunaLoa_CO2_TimeSeries_Seasonal.png\",dpi=600)\n",
    "fig1"
   ]
  },
  {
   "cell_type": "code",
   "execution_count": null,
   "metadata": {},
   "outputs": [],
   "source": [
    "# reset axis scales back to normal\n",
    "ax1.autoscale()\n",
    "fig1"
   ]
  },
  {
   "cell_type": "markdown",
   "metadata": {},
   "source": [
    "### Trend\n",
    "\n",
    "There is clearly an upward trend in the CO<sub>2</sub> concentrations in the atmosphere through time. The simplest way to analyse this trend would be through performing linear regression analysis between time and CO<sub>2</sub> concentrations, just like you have done using Minitab in previous labs. This can tell us mathetmatically the nature of the trend, plus give us an idea of how much of the variance in CO<sub>2</sub> concentrations can be explained by this trend. Thus we can start with a straight line equation:\n",
    "\n",
    "$$\n",
    "\\begin{equation}\n",
    "{Y_t = C_1 + C_2 X_t}\n",
    "\\end{equation}\n",
    "$$\n",
    "\n",
    "In this equation $X_t$ is time, and $Y_t$ is CO<sub>2</sub> concentration (the subscript $_t$ has been used to indicate we are considering the **trend** component), $C_1$ and $C_2$ are fitted coefficients corresponding to the intercept and slope of a fitted line respectively.\n",
    "\n",
    "The statistics packages within python have a linear regression tool we can use, this works in exactly the same way as the linear regression tool you have been using in Minitab. So let's run it and print the results to screen:"
   ]
  },
  {
   "cell_type": "code",
   "execution_count": null,
   "metadata": {},
   "outputs": [],
   "source": [
    "# perform linear regression\n",
    "slope, intercept, r_value, p_value, std_err = stat.linregress(DecimalDate,CO2)\n",
    "\n",
    "# set p if very low\n",
    "if (p_value<0.001):\n",
    "    p_value = 0.001\n",
    "    \n",
    "print(\"C1 = \", intercept)\n",
    "print(\"C2 = \", slope)\n",
    "print(\"R^2 = \", r_value**2.)\n",
    "print(\"p = \", p_value)"
   ]
  },
  {
   "cell_type": "markdown",
   "metadata": {},
   "source": [
    "Now we can plot the results of our regression, label the regression line and add our equation and R$^2$ value:"
   ]
  },
  {
   "cell_type": "code",
   "execution_count": null,
   "metadata": {},
   "outputs": [],
   "source": [
    "# make a string of the equation so that we can add\n",
    "eq = \"$Y_t=$\"+'{0:.2f}'.format(intercept)+\" + \"+'{0:.2f}'.format(slope)+\"$ X_t$\"\n",
    "\n",
    "# plot the result\n",
    "ax1.plot(DecimalDate, intercept+slope*DecimalDate,'r--',label=eq)\n",
    "\n",
    "# add R2 and p value\n",
    "ax1.text(2000,310,\"R$^2$ = \"+'{0:.2f}'.format(r_value**2.)+\", $p <$  \"+'{0:.3f}'.format(p_value),color=\"r\")\n",
    "\n",
    "# add the legend\n",
    "ax1.legend()\n",
    "\n",
    "# save output\n",
    "fig1.savefig(\"MaunaLoa_CO2_TimeSeries_LinearTrend.png\",dpi=600)\n",
    "\n",
    "#display the updated figure\n",
    "fig1"
   ]
  },
  {
   "cell_type": "markdown",
   "metadata": {},
   "source": [
    "Wow, this linear regression can explain 98% of the variance in CO<sub>2</sub> concentrations through time. Not bad! But as with all regression applications we need to take a look at our residuals to see whether our model is consistent.\n",
    "\n",
    "We can take a look at the residuals between the model fit and the raw data to have an idea of how well our regression model is performing. There are three plots we could work with, a histogram of the residuals, a normal probability plot, and a plot of the residuals vs the modelled values:"
   ]
  },
  {
   "cell_type": "code",
   "execution_count": null,
   "metadata": {},
   "outputs": [],
   "source": [
    "# calculate the residuals\n",
    "linear_model = intercept+slope*DecimalDate\n",
    "residuals = CO2-linear_model\n",
    "\n",
    "# plot the residuals on a new figure\n",
    "fig2 = plt.figure(2,figsize=(4,4))\n",
    "ax2 = fig2.add_subplot(111)\n",
    "ax2.hist(residuals)\n",
    "plt.xlabel(\"Residuals in CO$_2$ (ppm)\")\n",
    "plt.ylabel(\"Frequency\")\n",
    "plt.xlim(-10,10)\n",
    "plt.tight_layout()\n",
    "fig2.savefig(\"MaunaLoa_CO2_TimeSeries_LinearTrend_Residuals_Hist.png\", dpi=600)"
   ]
  },
  {
   "cell_type": "code",
   "execution_count": null,
   "metadata": {},
   "outputs": [],
   "source": [
    "# create another plot for normal probability plot \n",
    "fig3 = plt.figure(2,figsize=(4,4))\n",
    "ax3 = fig3.add_subplot(111)\n",
    "stat.probplot(residuals,plot=ax3)\n",
    "\n",
    "# customise the colours\n",
    "ax3.get_lines()[0].set_marker('o')\n",
    "ax3.get_lines()[0].set_markerfacecolor([0.1,0.3,0.65])\n",
    "ax3.get_lines()[0].set_markeredgecolor([0.1,0.3,0.65])\n",
    "plt.tight_layout()\n",
    "fig3.savefig(\"MaunaLoa_CO2_TimeSeries_LinearTrend_ProbPlot.png\", dpi=600)"
   ]
  },
  {
   "cell_type": "code",
   "execution_count": null,
   "metadata": {},
   "outputs": [],
   "source": [
    "# create a third plot for model vs residuals\n",
    "fig4 = plt.figure(2,figsize=(6,4))\n",
    "ax4 = fig4.add_subplot(111)\n",
    "ax4.plot(linear_model,residuals,'ko')\n",
    "ax4.plot([linear_model.min(),linear_model.max()],[0,0],'r--')\n",
    "plt.xlabel(\"Model fit CO$_2$ (ppm)\")\n",
    "plt.ylabel(\"Residuals in CO$_2$ (ppm)\")\n",
    "plt.tight_layout()\n",
    "fig4.savefig(\"MaunaLoa_CO2_TimeSeries_LinearTrend_Residuals.png\", dpi=600)"
   ]
  },
  {
   "cell_type": "markdown",
   "metadata": {},
   "source": [
    "So our residuals are not normally distributed and there is *clearly* heteroscedasticity. Measured CO2 concentrations are higher than our best fit line towards the beginning and end of the record, and lower in the middle. Instead of transforming any variables (which I can tell you will not work in this case), we can try fitting a non-linear (curvy) model, or more specifically a **quadratic** model with an extra coefficient ($C_3$) of the form:\n",
    "\n",
    "$$\n",
    "\\begin{equation}\n",
    "{Y_t = C_1 + C_2 X_t + C_3 {X_t}^2}\n",
    "\\end{equation}\n",
    "$$\n",
    "\n",
    "To do this we will use a polynomial regression function, rather than linear regression function. Nmuerical python has a *\"polyfit\"* tool do this, and we have to tell it that the order of the polynomial is 2 (i.e. X$^2$ is the largest power in the equation):"
   ]
  },
  {
   "cell_type": "code",
   "execution_count": null,
   "metadata": {},
   "outputs": [],
   "source": [
    "# try a 2nd order polynomial fit instead\n",
    "coefs = np.polyfit(DecimalDate,CO2,2)\n",
    "fit = np.poly1d(coefs)\n",
    "print(\"C1 = \",coefs[2])\n",
    "print(\"C2 = \",coefs[1])\n",
    "print(\"C3 = \",coefs[0])"
   ]
  },
  {
   "cell_type": "markdown",
   "metadata": {},
   "source": [
    "Now annoyingly, this function doesnt explicitly calculate R$^2$ for us. We need to do it ourselves. \n",
    "So first let's subtract the model from data to get our residuals:"
   ]
  },
  {
   "cell_type": "code",
   "execution_count": null,
   "metadata": {},
   "outputs": [],
   "source": [
    "# calculate the residuals\n",
    "residuals = CO2-fit(DecimalDate)"
   ]
  },
  {
   "cell_type": "markdown",
   "metadata": {},
   "source": [
    "The coefficient of determination (R$^2$) is calculated from the total sum of squared differences ($SS_{tot}$) between the observations and the mean. This sum of squares is proporational to the total variance. We also need the sum of squares of our residuals relative to our best fit model ($SS_{res}$):\n",
    "\n",
    "$$\n",
    "\\begin{equation}\n",
    "R^2 = 1 - {{SS_{res}}\\over{SS_{tot}}}\n",
    "\\end{equation}\n",
    "$$"
   ]
  },
  {
   "cell_type": "code",
   "execution_count": null,
   "metadata": {},
   "outputs": [],
   "source": [
    "# calculate total sum of squares relative to to the mean\n",
    "SS_tot = np.sum((CO2-np.mean(CO2))**2.)\n",
    "\n",
    "# calculate total sum of squared residuals\n",
    "SS_res = np.sum(residuals**2.)\n",
    "\n",
    "# calculate R2 and print to screen\n",
    "R_2 = 1-(SS_res/SS_tot)\n",
    "print(\"R^2 = \", R_2)"
   ]
  },
  {
   "cell_type": "markdown",
   "metadata": {},
   "source": [
    "Now we can plot our new model fit on our existing graph and report the equation and $R^2$:"
   ]
  },
  {
   "cell_type": "code",
   "execution_count": null,
   "metadata": {},
   "outputs": [],
   "source": [
    "# make a string of the equation\n",
    "eq2 = \"$Y_t=$\"+'{0:.3f}'.format(coefs[0])+\"${X_t}^2$ - \"+'{0:.2f}'.format(-coefs[1])+\"$ X_t$ + \"+'{0:.1f}'.format(coefs[2])\n",
    "\n",
    "# plot the result\n",
    "ax1.plot(DecimalDate, fit(DecimalDate),'b-',label=eq2)            \n",
    "\n",
    "# do chi_dquared test to check significance of relationship\n",
    "chi_sq, p_value = stat.chisquare(CO2,fit(DecimalDate))\n",
    "p_value = 1-p_value\n",
    "\n",
    "# set p if very low\n",
    "if (p_value<0.001):\n",
    "    p_value = 0.001\n",
    "    \n",
    "ax1.text(2000,320,\"$R^2$ = \"+'{0:.2f}'.format(R_2)+\", $p <$ \"+'{0:.3f}'.format(p_value), color=\"b\")\n",
    "\n",
    "# add the legend\n",
    "ax1.legend()\n",
    "\n",
    "# save figure\n",
    "fig1.savefig(\"MaunaLoa_CO2_TimeSeries_QuadraticTrend.png\", dpi=600)\n",
    "\n",
    "fig1"
   ]
  },
  {
   "cell_type": "markdown",
   "metadata": {},
   "source": [
    "This looks to be doing a much better job of representing the trend in CO<sub>2</sub> concentrations. Let's check the residuals:"
   ]
  },
  {
   "cell_type": "code",
   "execution_count": null,
   "metadata": {},
   "outputs": [],
   "source": [
    "# plot the residuals\n",
    "fig5 = plt.figure(5,figsize=(4,4))\n",
    "ax5 = fig5.add_subplot(111)\n",
    "ax5.hist(residuals)\n",
    "plt.xlabel(\"Residuals in CO$_2$ (ppm)\")\n",
    "plt.ylabel(\"Frequency\")\n",
    "plt.xlim(-10,10)\n",
    "plt.tight_layout()\n",
    "fig5.savefig(\"MaunaLoa_CO2_TimeSeries_QuadTrend_Residuals.png\", dpi=600)"
   ]
  },
  {
   "cell_type": "code",
   "execution_count": null,
   "metadata": {},
   "outputs": [],
   "source": [
    "# create a second plot axis for normal probability plot \n",
    "fig6 = plt.figure(6,figsize=(4,4))\n",
    "ax6 = fig6.add_subplot(111)\n",
    "stat.probplot(residuals,plot=ax6)\n",
    "\n",
    "# customise the colours\n",
    "ax6.get_lines()[0].set_marker('o')\n",
    "ax6.get_lines()[0].set_markerfacecolor([0.1,0.3,0.65])\n",
    "ax6.get_lines()[0].set_markeredgecolor([0.1,0.3,0.65])\n",
    "plt.tight_layout()\n",
    "fig6.savefig(\"MaunaLoa_CO2_TimeSeries_QuadTrend_ProbPlot.png\", dpi=600)"
   ]
  },
  {
   "cell_type": "code",
   "execution_count": null,
   "metadata": {},
   "outputs": [],
   "source": [
    "# create a third plot for model vs residuals\n",
    "Model = fit(DecimalDate)\n",
    "fig7 = plt.figure(7,figsize=(6,4))\n",
    "ax7 = fig7.add_subplot(111)\n",
    "ax7.plot(Model,residuals,'ko')\n",
    "ax7.plot([Model.min(),Model.max()],[0,0],'r--')\n",
    "plt.xlabel(\"Model fit CO$_2$ (ppm)\")\n",
    "plt.ylabel(\"Residuals in CO$_2$ (ppm)\")\n",
    "plt.tight_layout()\n",
    "fig7.savefig(\"MaunaLoa_CO2_TimeSeries_QuadTrend_Resis.png\", dpi=600)"
   ]
  },
  {
   "cell_type": "markdown",
   "metadata": {},
   "source": [
    "OK that looks like an improvement. We could now go on and try higher order polynomial fits or try and fit other types of functions such as power laws or exponential functions, particularly if the quadratic was not able to offer a reasonable fit ot the data.\n",
    "\n",
    "## Timeseries Filters\n",
    "\n",
    "An alternative approach to identifying the trend component in a timeseries is to run a filter across the data. A filter acts to smooth out regular and irregular noise and isolate the trend. The advantage of a filter is that it makes no *a priori* assumptions about the nature of the trend (e.g. linear, quadratic, power law). The disadvantage is that the trend is not described mathematically and thus cannot be extrapolated to make future predictions.\n",
    "\n",
    "The simplest form of filter is a running average (running mean). This means for each data point in our timeseries we take an average $\\bar{Y_t}$ of all the nearby values $Y_t$, so the overbar indicates an average value:\n",
    "\n",
    "$$\n",
    "\\begin{equation}\n",
    "\\bar{Y_t} = {{1}\\over{m}}\\sum_{j=-k}^{k} Y_t+j\n",
    "\\end{equation}\n",
    "$$\n",
    "\n",
    "Where $m$ is the size of the moving window (how many values to calculate the mean from), and $k$ is a index referencing the nearest values to $Y_t$ within the moving window. Below we define a function that calculates the running mean, and use a 24 month (2 year) window size to smooth our data:"
   ]
  },
  {
   "cell_type": "code",
   "execution_count": null,
   "metadata": {},
   "outputs": [],
   "source": [
    "# filter\n",
    "def running_mean(x,N):\n",
    "    cumsum = np.cumsum(np.insert(x, 0, 0)) \n",
    "    return (cumsum[N:] - cumsum[:-N]) / float(N)\n",
    "\n",
    "# number of timesteps to average over = 24 months/ 2 years\n",
    "Nt = 12\n",
    "CO2_filter = running_mean(CO2,Nt)\n",
    "\n",
    "# set up filtered dates and raw CO2 data\n",
    "# we need to trim the ends of the filter since we have no computations until we are half a window in to the dataset\n",
    "DecimalDate_f = DecimalDate[int(Nt/2):-int((Nt/2)-1)]\n",
    "CO2_f = CO2[int(Nt/2):-int((Nt/2)-1)]\n",
    "\n",
    "FigWidth = 10.\n",
    "fig8 = plt.figure(8,figsize=(FigWidth,FigWidth*9./16.))\n",
    "ax8 = fig8.add_subplot(111)\n",
    "ax8.plot(DecimalDate,CO2,'k-',label=\"Mean Monthly CO$_2$\")\n",
    "ax8.plot(DecimalDate_f,CO2_filter,'r--',lw=2,label=\"Moving Average\")\n",
    "plt.xlabel(\"Time (year)\")\n",
    "plt.ylabel(\"CO$_2$ (ppm)\")\n",
    "ax8.set_xlim(2000,2010)\n",
    "ax8.legend()\n",
    "fig8.savefig(\"MaunaLoa_CO2_TimeSeries_MovingAverage.png\", dpi=600)"
   ]
  },
  {
   "cell_type": "markdown",
   "metadata": {},
   "source": [
    "<div class=\"alert alert-block alert-info\">\n",
    "<font color=\"black\">\n",
    "<h3>TASK</h3>\n",
    "<p> Explore the effect of window size on the degree of filtering by changing the size of the moving average window at the line  `Nt = 24` in the code above. Then rerun the last block of code. You will need to use an even number.\n",
    "\n",
    "If you want to zoom in to be able to look a little closer at the effects, uncomment the line `#ax8.set_xlim(2000,2010)` by deleting the `#` symbol and rerun the code block.</p>\n",
    "<p></p>\n",
    "</font>\n",
    "</div>"
   ]
  },
  {
   "cell_type": "markdown",
   "metadata": {},
   "source": [
    "## Seasonality\n",
    "\n",
    "Now that the trend has been identified and modelled, you can explore the seasonal signal in the residuals. First let's plot the residuals through time to observe the seasonal signal, corrected for our filtered running mean."
   ]
  },
  {
   "cell_type": "code",
   "execution_count": null,
   "metadata": {},
   "outputs": [],
   "source": [
    "# Get seasonal component\n",
    "SeasonalCO2 = CO2_f-CO2_filter\n",
    "\n",
    "# plot the time series\n",
    "FigWidth = 12.\n",
    "fig9 = plt.figure(9,figsize=(FigWidth,FigWidth*1./4.))\n",
    "ax9 = fig9.add_subplot(111)\n",
    "ax9.plot(DecimalDate_f,SeasonalCO2,'k-',label=\"Monthly Mean CO$_2$ Data\")\n",
    "plt.xlabel(\"Time (year)\")\n",
    "plt.ylabel(\"Seasonal CO$_2$ (ppm)\")\n",
    "plt.tight_layout()\n",
    "plt.savefig(\"MaunaLoa_CO2_TimeSeries_Seasonal.png\",dpi=600)"
   ]
  },
  {
   "cell_type": "markdown",
   "metadata": {},
   "source": [
    "We can zoom in a little bit to see the seasonal pattern more clearly."
   ]
  },
  {
   "cell_type": "code",
   "execution_count": null,
   "metadata": {},
   "outputs": [],
   "source": [
    "ax9.set_xlim(2000,2010)\n",
    "fig9.savefig(\"MaunaLoa_CO2_TimeSeries_Seasonal10.png\",dpi=600)\n",
    "fig9"
   ]
  },
  {
   "cell_type": "markdown",
   "metadata": {},
   "source": [
    "To model the seasonal signal we will use a harmonic function (e.g. a sine wave). There are other ways we could approach this but this is a simple btu effective approach. The mathematical equation for a sine wave is:\n",
    "\n",
    "$$\n",
    "\\begin{equation}\n",
    "{S_t = A\\:\\sin\\:(\\:f\\:X_t + \\phi) + D}\n",
    "\\end{equation}\n",
    "$$\n",
    "\n",
    "where $A$ is the amplitude of the wave, $f$ is the wave frequency, $\\phi$ is the phase (where in the cycle of one wavelength the signal starts), and $D$ is the offset. \n",
    "\n",
    "We can fit a seasonal signal to the decomposed data by fitting a sine wave of this form to the data using a least squares optimisation function (i.e. minimising the square of our residuals)."
   ]
  },
  {
   "cell_type": "code",
   "execution_count": null,
   "metadata": {},
   "outputs": [],
   "source": [
    "#import optimisation routine for fitting sine curve to the data\n",
    "from scipy.optimize import leastsq, minimize\n",
    "\n",
    "# create a sine wave function for optimising to our seasonal data\n",
    "# minimising the difference to the data\n",
    "optimize_func = lambda x: x[0]*np.sin(x[1]*DecimalDate_f+x[2]) + x[3] - SeasonalCO2\n",
    "\n",
    "# take an initial guess at the parameters\n",
    "guess_mean = np.mean(SeasonalCO2)\n",
    "guess_phase = 1.6\n",
    "guess_freq = 6.3\n",
    "guess_amp = 3.\n",
    "\n",
    "# run the least squared analysis to optimise\n",
    "est_amp, est_freq, est_phase, est_mean = leastsq(optimize_func, [guess_amp, guess_freq, guess_phase, guess_mean])[0]\n",
    "\n",
    "# recreate the fitted curve using the optimized parameters\n",
    "sine_fit = est_amp*np.sin(est_freq*DecimalDate_f+est_phase) + est_mean\n",
    "\n",
    "ax9.plot(DecimalDate_f,sine_fit,'r--')\n",
    "fig9.savefig(\"MaunaLoa_CO2_TimeSeries_Fit.png\",dpi=600)\n",
    "fig9"
   ]
  },
  {
   "cell_type": "markdown",
   "metadata": {},
   "source": [
    "### Random component / residuals\n",
    "\n",
    "The remaining difference (residuals) between the decomposed seasonal data and the sine wave model fit through it is the last component of our timeseries. This may still contain some signal which could be further decomposed if desired."
   ]
  },
  {
   "cell_type": "code",
   "execution_count": null,
   "metadata": {},
   "outputs": [],
   "source": [
    "# get residuals from seasonal signal\n",
    "Residuals = SeasonalCO2 - sine_fit\n",
    "\n",
    "# plot residuals\n",
    "fig10 = plt.figure(9,figsize=(FigWidth,FigWidth*1./4.))\n",
    "ax10 = fig10.add_subplot(111)\n",
    "ax10.plot(DecimalDate_f,Residuals,'k-',label=\"Monthly Mean CO$_2$ Data\")\n",
    "plt.xlabel(\"Time (year)\")\n",
    "plt.ylabel(\"Residual CO$_2$ (ppm)\")\n",
    "ax10.set_xlim(2000,2010)\n",
    "plt.tight_layout()\n",
    "plt.savefig(\"MaunaLoa_CO2_TimeSeries_Residuals.png\",dpi=600)"
   ]
  },
  {
   "cell_type": "code",
   "execution_count": null,
   "metadata": {},
   "outputs": [],
   "source": [
    "# plot the residuals\n",
    "fig11 = plt.figure(10,figsize=(4,4))\n",
    "ax11 = fig11.add_subplot(111)\n",
    "ax11.hist(Residuals)\n",
    "plt.xlabel(\"Residuals in CO$_2$ (ppm)\")\n",
    "plt.ylabel(\"Frequency\")\n",
    "#plt.xlim(-10,10)\n",
    "plt.tight_layout()\n",
    "fig11.savefig(\"MaunaLoa_CO2_TimeSeries_Final_Residuals_Hist.png\", dpi=600)"
   ]
  },
  {
   "cell_type": "code",
   "execution_count": null,
   "metadata": {},
   "outputs": [],
   "source": [
    "# create a second plot axis for normal probability plot \n",
    "fig12 = plt.figure(1,figsize=(4,4))\n",
    "ax12 = fig12.add_subplot(111)\n",
    "stat.probplot(Residuals,plot=ax12)\n",
    "\n",
    "# customise the colours\n",
    "ax12.get_lines()[0].set_marker('o')\n",
    "ax12.get_lines()[0].set_markerfacecolor([0.1,0.3,0.65])\n",
    "ax12.get_lines()[0].set_markeredgecolor([0.1,0.3,0.65])\n",
    "plt.tight_layout()\n",
    "fig12.savefig(\"MaunaLoa_CO2_TimeSeries_Final_ProbPlot.png\", dpi=600)"
   ]
  },
  {
   "cell_type": "code",
   "execution_count": null,
   "metadata": {},
   "outputs": [],
   "source": [
    "# create a third plot for model vs residuals\n",
    "Model = fit(DecimalDate_f)\n",
    "fig12 = plt.figure(12,figsize=(6,4))\n",
    "ax12 = fig12.add_subplot(111)\n",
    "ax12.plot(Model,Residuals,'ko')\n",
    "ax12.plot([Model.min(),Model.max()],[0,0],'r--')\n",
    "plt.xlabel(\"Model fit Seasonal CO$_2$ (ppm)\")\n",
    "plt.ylabel(\"Residuals in CO$_2$ (ppm)\")\n",
    "plt.tight_layout()\n",
    "fig12.savefig(\"MaunaLoa_CO2_TimeSeries_Final_Resis.png\", dpi=600)"
   ]
  },
  {
   "cell_type": "markdown",
   "metadata": {},
   "source": [
    "### Final decomposition\n",
    "\n",
    "So now we have our final decomposition, let's plot the results all together."
   ]
  },
  {
   "cell_type": "code",
   "execution_count": null,
   "metadata": {
    "scrolled": true
   },
   "outputs": [],
   "source": [
    "# Create decomposition plot\n",
    "FigWidth=10\n",
    "fig10 = plt.figure(10,figsize=(FigWidth,FigWidth))\n",
    "\n",
    "# plot data\n",
    "ax10a = fig10.add_subplot(411)\n",
    "ax10a.plot(DecimalDate,CO2,'k-')\n",
    "ax10a.set_ylabel(\"CO$_2$ (ppm)\")\n",
    "ax10a.xaxis.set_ticklabels([])\n",
    "plt.text(1960,400,\"Raw Data\")\n",
    "\n",
    "#plot trend\n",
    "ax10b = fig10.add_subplot(412)\n",
    "ax10b.plot(DecimalDate,fit(DecimalDate),'k-')\n",
    "ax10b.set_ylabel(\"CO$_2$ (ppm)\")\n",
    "ax10b.xaxis.set_ticklabels([])\n",
    "plt.text(1960,400,\"Trend\")\n",
    "\n",
    "#plot seasonal\n",
    "ax10c = fig10.add_subplot(413)\n",
    "ax10c.plot(DecimalDate_f,sine_fit,'k-')\n",
    "ax10c.set_ylabel(\"CO$_2$ (ppm)\")\n",
    "ax10c.xaxis.set_ticklabels([])\n",
    "ax10c.set_ylim(-5,5)\n",
    "plt.text(1960,3.8,\"Seasonal\")\n",
    "\n",
    "#plot noise\n",
    "ax10d = fig10.add_subplot(414)\n",
    "ax10d.plot(DecimalDate_f,Residuals,'k-')\n",
    "ax10d.set_ylabel(\"CO$_2$ (ppm)\")\n",
    "plt.text(1960,1.3,\"Residuals\")\n",
    "plt.xlabel(\"Date (years)\")\n",
    "\n",
    "plt.tight_layout()\n",
    "plt.savefig(\"MaunaLoa_CO2_TimeSeries_Decomposition.png\",dpi=600)"
   ]
  },
  {
   "cell_type": "code",
   "execution_count": null,
   "metadata": {
    "scrolled": true
   },
   "outputs": [],
   "source": [
    "# recreate the fitted curve using the optimized parameters\n",
    "X = np.arange(0,2*np.pi,0.01)\n",
    "sine_wave = 1.*np.sin(4.*X+np.pi/2) + 0.5\n",
    "plt.figure(11,figsize=(12,4))\n",
    "plt.plot(X,sine_wave)\n",
    "plt.xlabel(\"X\")\n",
    "plt.ylabel(\"Y\")\n",
    "plt.tight_layout()\n",
    "plt.savefig(\"sinewave.png\",dpi=600)"
   ]
  },
  {
   "cell_type": "code",
   "execution_count": null,
   "metadata": {},
   "outputs": [],
   "source": [
    "Time = np.arange(1957,2100,0.1)\n",
    "\n",
    "Prediction = coefs[2]+ coefs[1]*Time+coefs[0]*Time**2. + est_amp*np.sin(est_freq*Time+est_phase) + est_mean"
   ]
  },
  {
   "cell_type": "code",
   "execution_count": null,
   "metadata": {},
   "outputs": [],
   "source": [
    "FigWidth = 10.\n",
    "fig99 = plt.figure(99,figsize=(FigWidth,FigWidth*9./16.))\n",
    "ax99 = fig99.add_subplot(111)\n",
    "ax99.plot(DecimalDate,CO2,'k-',label=\"Mean Monthly CO$_2$\")\n",
    "ax99.plot(Time,Prediction,'r-',label=\"Predicted CO$_2$\")\n",
    "plt.xlabel(\"Time\")\n",
    "plt.ylabel(\"CO2\")\n",
    "plt.tight_layout()\n",
    "plt.savefig(\"prediction.png\",dpi=600)"
   ]
  }
 ],
 "metadata": {
  "kernelspec": {
   "display_name": "Python 3",
   "language": "python",
   "name": "python3"
  },
  "language_info": {
   "codemirror_mode": {
    "name": "ipython",
    "version": 3
   },
   "file_extension": ".py",
   "mimetype": "text/x-python",
   "name": "python",
   "nbconvert_exporter": "python",
   "pygments_lexer": "ipython3",
   "version": "3.6.5"
  }
 },
 "nbformat": 4,
 "nbformat_minor": 2
}
